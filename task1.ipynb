{
 "cells": [
  {
   "cell_type": "markdown",
   "metadata": {},
   "source": [
    "# VMO2 Take Home Test\n",
    "\n",
    "This notebook contains the experiments that led to the creation of the final `task1.py` script."
   ]
  },
  {
   "cell_type": "code",
   "execution_count": 50,
   "metadata": {},
   "outputs": [
    {
     "name": "stdout",
     "output_type": "stream",
     "text": [
      "Requirement already satisfied: pandas>=2.1.1 in /Users/hirurana/.pyenv/versions/3.11.2/lib/python3.11/site-packages (from -r requirements.txt (line 1)) (2.1.1)\n",
      "Requirement already satisfied: numpy>=1.26.0 in /Users/hirurana/.pyenv/versions/3.11.2/lib/python3.11/site-packages (from -r requirements.txt (line 2)) (1.26.0)\n",
      "Requirement already satisfied: fsspec>=2023.9.1 in /Users/hirurana/.pyenv/versions/3.11.2/lib/python3.11/site-packages (from -r requirements.txt (line 3)) (2023.9.1)\n",
      "Requirement already satisfied: gcsfs>=2023.9.1 in /Users/hirurana/.pyenv/versions/3.11.2/lib/python3.11/site-packages (from -r requirements.txt (line 4)) (2023.9.1)\n",
      "Requirement already satisfied: scikit-learn>=1.3.1 in /Users/hirurana/.pyenv/versions/3.11.2/lib/python3.11/site-packages (from -r requirements.txt (line 5)) (1.3.1)\n",
      "Requirement already satisfied: xgboost>=2.0.0 in /Users/hirurana/.pyenv/versions/3.11.2/lib/python3.11/site-packages (from -r requirements.txt (line 6)) (2.0.0)\n",
      "Requirement already satisfied: matplotlib>=3.8.0 in /Users/hirurana/.pyenv/versions/3.11.2/lib/python3.11/site-packages (from -r requirements.txt (line 7)) (3.8.0)\n",
      "Requirement already satisfied: imbalanced-learn>=0.11.0 in /Users/hirurana/.pyenv/versions/3.11.2/lib/python3.11/site-packages (from -r requirements.txt (line 8)) (0.11.0)\n",
      "Requirement already satisfied: pytest>=7.4.2 in /Users/hirurana/.pyenv/versions/3.11.2/lib/python3.11/site-packages (from -r requirements.txt (line 9)) (7.4.2)\n",
      "Requirement already satisfied: python-dateutil>=2.8.2 in /Users/hirurana/.pyenv/versions/3.11.2/lib/python3.11/site-packages (from pandas>=2.1.1->-r requirements.txt (line 1)) (2.8.2)\n",
      "Requirement already satisfied: pytz>=2020.1 in /Users/hirurana/.pyenv/versions/3.11.2/lib/python3.11/site-packages (from pandas>=2.1.1->-r requirements.txt (line 1)) (2023.3.post1)\n",
      "Requirement already satisfied: tzdata>=2022.1 in /Users/hirurana/.pyenv/versions/3.11.2/lib/python3.11/site-packages (from pandas>=2.1.1->-r requirements.txt (line 1)) (2023.3)\n",
      "Requirement already satisfied: aiohttp!=4.0.0a0,!=4.0.0a1 in /Users/hirurana/.pyenv/versions/3.11.2/lib/python3.11/site-packages (from gcsfs>=2023.9.1->-r requirements.txt (line 4)) (3.8.5)\n",
      "Requirement already satisfied: decorator>4.1.2 in /Users/hirurana/.pyenv/versions/3.11.2/lib/python3.11/site-packages (from gcsfs>=2023.9.1->-r requirements.txt (line 4)) (5.1.1)\n",
      "Requirement already satisfied: google-auth>=1.2 in /Users/hirurana/.pyenv/versions/3.11.2/lib/python3.11/site-packages (from gcsfs>=2023.9.1->-r requirements.txt (line 4)) (2.23.0)\n",
      "Requirement already satisfied: google-auth-oauthlib in /Users/hirurana/.pyenv/versions/3.11.2/lib/python3.11/site-packages (from gcsfs>=2023.9.1->-r requirements.txt (line 4)) (1.1.0)\n",
      "Requirement already satisfied: google-cloud-storage in /Users/hirurana/.pyenv/versions/3.11.2/lib/python3.11/site-packages (from gcsfs>=2023.9.1->-r requirements.txt (line 4)) (2.11.0)\n",
      "Requirement already satisfied: requests in /Users/hirurana/.pyenv/versions/3.11.2/lib/python3.11/site-packages (from gcsfs>=2023.9.1->-r requirements.txt (line 4)) (2.30.0)\n",
      "Requirement already satisfied: scipy>=1.5.0 in /Users/hirurana/.pyenv/versions/3.11.2/lib/python3.11/site-packages (from scikit-learn>=1.3.1->-r requirements.txt (line 5)) (1.11.2)\n",
      "Requirement already satisfied: joblib>=1.1.1 in /Users/hirurana/.pyenv/versions/3.11.2/lib/python3.11/site-packages (from scikit-learn>=1.3.1->-r requirements.txt (line 5)) (1.3.2)\n",
      "Requirement already satisfied: threadpoolctl>=2.0.0 in /Users/hirurana/.pyenv/versions/3.11.2/lib/python3.11/site-packages (from scikit-learn>=1.3.1->-r requirements.txt (line 5)) (3.2.0)\n",
      "Requirement already satisfied: contourpy>=1.0.1 in /Users/hirurana/.pyenv/versions/3.11.2/lib/python3.11/site-packages (from matplotlib>=3.8.0->-r requirements.txt (line 7)) (1.1.1)\n",
      "Requirement already satisfied: cycler>=0.10 in /Users/hirurana/.pyenv/versions/3.11.2/lib/python3.11/site-packages (from matplotlib>=3.8.0->-r requirements.txt (line 7)) (0.11.0)\n",
      "Requirement already satisfied: fonttools>=4.22.0 in /Users/hirurana/.pyenv/versions/3.11.2/lib/python3.11/site-packages (from matplotlib>=3.8.0->-r requirements.txt (line 7)) (4.42.1)\n",
      "Requirement already satisfied: kiwisolver>=1.0.1 in /Users/hirurana/.pyenv/versions/3.11.2/lib/python3.11/site-packages (from matplotlib>=3.8.0->-r requirements.txt (line 7)) (1.4.5)\n",
      "Requirement already satisfied: packaging>=20.0 in /Users/hirurana/.pyenv/versions/3.11.2/lib/python3.11/site-packages (from matplotlib>=3.8.0->-r requirements.txt (line 7)) (23.1)\n",
      "Requirement already satisfied: pillow>=6.2.0 in /Users/hirurana/.pyenv/versions/3.11.2/lib/python3.11/site-packages (from matplotlib>=3.8.0->-r requirements.txt (line 7)) (10.0.1)\n",
      "Requirement already satisfied: pyparsing>=2.3.1 in /Users/hirurana/.pyenv/versions/3.11.2/lib/python3.11/site-packages (from matplotlib>=3.8.0->-r requirements.txt (line 7)) (3.1.1)\n",
      "Requirement already satisfied: iniconfig in /Users/hirurana/.pyenv/versions/3.11.2/lib/python3.11/site-packages (from pytest>=7.4.2->-r requirements.txt (line 9)) (2.0.0)\n",
      "Requirement already satisfied: pluggy<2.0,>=0.12 in /Users/hirurana/.pyenv/versions/3.11.2/lib/python3.11/site-packages (from pytest>=7.4.2->-r requirements.txt (line 9)) (1.3.0)\n",
      "Requirement already satisfied: attrs>=17.3.0 in /Users/hirurana/.pyenv/versions/3.11.2/lib/python3.11/site-packages (from aiohttp!=4.0.0a0,!=4.0.0a1->gcsfs>=2023.9.1->-r requirements.txt (line 4)) (23.1.0)\n",
      "Requirement already satisfied: charset-normalizer<4.0,>=2.0 in /Users/hirurana/.pyenv/versions/3.11.2/lib/python3.11/site-packages (from aiohttp!=4.0.0a0,!=4.0.0a1->gcsfs>=2023.9.1->-r requirements.txt (line 4)) (3.1.0)\n",
      "Requirement already satisfied: multidict<7.0,>=4.5 in /Users/hirurana/.pyenv/versions/3.11.2/lib/python3.11/site-packages (from aiohttp!=4.0.0a0,!=4.0.0a1->gcsfs>=2023.9.1->-r requirements.txt (line 4)) (6.0.4)\n",
      "Requirement already satisfied: async-timeout<5.0,>=4.0.0a3 in /Users/hirurana/.pyenv/versions/3.11.2/lib/python3.11/site-packages (from aiohttp!=4.0.0a0,!=4.0.0a1->gcsfs>=2023.9.1->-r requirements.txt (line 4)) (4.0.3)\n",
      "Requirement already satisfied: yarl<2.0,>=1.0 in /Users/hirurana/.pyenv/versions/3.11.2/lib/python3.11/site-packages (from aiohttp!=4.0.0a0,!=4.0.0a1->gcsfs>=2023.9.1->-r requirements.txt (line 4)) (1.9.2)\n",
      "Requirement already satisfied: frozenlist>=1.1.1 in /Users/hirurana/.pyenv/versions/3.11.2/lib/python3.11/site-packages (from aiohttp!=4.0.0a0,!=4.0.0a1->gcsfs>=2023.9.1->-r requirements.txt (line 4)) (1.4.0)\n",
      "Requirement already satisfied: aiosignal>=1.1.2 in /Users/hirurana/.pyenv/versions/3.11.2/lib/python3.11/site-packages (from aiohttp!=4.0.0a0,!=4.0.0a1->gcsfs>=2023.9.1->-r requirements.txt (line 4)) (1.3.1)\n",
      "Requirement already satisfied: cachetools<6.0,>=2.0.0 in /Users/hirurana/.pyenv/versions/3.11.2/lib/python3.11/site-packages (from google-auth>=1.2->gcsfs>=2023.9.1->-r requirements.txt (line 4)) (5.3.1)\n",
      "Requirement already satisfied: pyasn1-modules>=0.2.1 in /Users/hirurana/.pyenv/versions/3.11.2/lib/python3.11/site-packages (from google-auth>=1.2->gcsfs>=2023.9.1->-r requirements.txt (line 4)) (0.3.0)\n",
      "Requirement already satisfied: rsa<5,>=3.1.4 in /Users/hirurana/.pyenv/versions/3.11.2/lib/python3.11/site-packages (from google-auth>=1.2->gcsfs>=2023.9.1->-r requirements.txt (line 4)) (4.9)\n",
      "Requirement already satisfied: urllib3<2.0 in /Users/hirurana/.pyenv/versions/3.11.2/lib/python3.11/site-packages (from google-auth>=1.2->gcsfs>=2023.9.1->-r requirements.txt (line 4)) (1.26.15)\n",
      "Requirement already satisfied: six>=1.5 in /Users/hirurana/.pyenv/versions/3.11.2/lib/python3.11/site-packages (from python-dateutil>=2.8.2->pandas>=2.1.1->-r requirements.txt (line 1)) (1.16.0)\n",
      "Requirement already satisfied: requests-oauthlib>=0.7.0 in /Users/hirurana/.pyenv/versions/3.11.2/lib/python3.11/site-packages (from google-auth-oauthlib->gcsfs>=2023.9.1->-r requirements.txt (line 4)) (1.3.1)\n",
      "Requirement already satisfied: google-api-core!=2.0.*,!=2.1.*,!=2.2.*,!=2.3.0,<3.0.0dev,>=1.31.5 in /Users/hirurana/.pyenv/versions/3.11.2/lib/python3.11/site-packages (from google-cloud-storage->gcsfs>=2023.9.1->-r requirements.txt (line 4)) (2.11.1)\n",
      "Requirement already satisfied: google-cloud-core<3.0dev,>=2.3.0 in /Users/hirurana/.pyenv/versions/3.11.2/lib/python3.11/site-packages (from google-cloud-storage->gcsfs>=2023.9.1->-r requirements.txt (line 4)) (2.3.3)\n",
      "Requirement already satisfied: google-resumable-media>=2.6.0 in /Users/hirurana/.pyenv/versions/3.11.2/lib/python3.11/site-packages (from google-cloud-storage->gcsfs>=2023.9.1->-r requirements.txt (line 4)) (2.6.0)\n",
      "Requirement already satisfied: idna<4,>=2.5 in /Users/hirurana/.pyenv/versions/3.11.2/lib/python3.11/site-packages (from requests->gcsfs>=2023.9.1->-r requirements.txt (line 4)) (3.4)\n",
      "Requirement already satisfied: certifi>=2017.4.17 in /Users/hirurana/.pyenv/versions/3.11.2/lib/python3.11/site-packages (from requests->gcsfs>=2023.9.1->-r requirements.txt (line 4)) (2023.5.7)\n",
      "Requirement already satisfied: googleapis-common-protos<2.0.dev0,>=1.56.2 in /Users/hirurana/.pyenv/versions/3.11.2/lib/python3.11/site-packages (from google-api-core!=2.0.*,!=2.1.*,!=2.2.*,!=2.3.0,<3.0.0dev,>=1.31.5->google-cloud-storage->gcsfs>=2023.9.1->-r requirements.txt (line 4)) (1.60.0)\n",
      "Requirement already satisfied: protobuf!=3.20.0,!=3.20.1,!=4.21.0,!=4.21.1,!=4.21.2,!=4.21.3,!=4.21.4,!=4.21.5,<5.0.0.dev0,>=3.19.5 in /Users/hirurana/.pyenv/versions/3.11.2/lib/python3.11/site-packages (from google-api-core!=2.0.*,!=2.1.*,!=2.2.*,!=2.3.0,<3.0.0dev,>=1.31.5->google-cloud-storage->gcsfs>=2023.9.1->-r requirements.txt (line 4)) (4.24.3)\n",
      "Requirement already satisfied: google-crc32c<2.0dev,>=1.0 in /Users/hirurana/.pyenv/versions/3.11.2/lib/python3.11/site-packages (from google-resumable-media>=2.6.0->google-cloud-storage->gcsfs>=2023.9.1->-r requirements.txt (line 4)) (1.5.0)\n",
      "Requirement already satisfied: pyasn1<0.6.0,>=0.4.6 in /Users/hirurana/.pyenv/versions/3.11.2/lib/python3.11/site-packages (from pyasn1-modules>=0.2.1->google-auth>=1.2->gcsfs>=2023.9.1->-r requirements.txt (line 4)) (0.5.0)\n",
      "Requirement already satisfied: oauthlib>=3.0.0 in /Users/hirurana/.pyenv/versions/3.11.2/lib/python3.11/site-packages (from requests-oauthlib>=0.7.0->google-auth-oauthlib->gcsfs>=2023.9.1->-r requirements.txt (line 4)) (3.2.2)\n",
      "\n",
      "\u001b[1m[\u001b[0m\u001b[34;49mnotice\u001b[0m\u001b[1;39;49m]\u001b[0m\u001b[39;49m A new release of pip available: \u001b[0m\u001b[31;49m22.3.1\u001b[0m\u001b[39;49m -> \u001b[0m\u001b[32;49m23.2.1\u001b[0m\n",
      "\u001b[1m[\u001b[0m\u001b[34;49mnotice\u001b[0m\u001b[1;39;49m]\u001b[0m\u001b[39;49m To update, run: \u001b[0m\u001b[32;49mpip install --upgrade pip\u001b[0m\n"
     ]
    }
   ],
   "source": [
    "!pip install -r requirements.txt"
   ]
  },
  {
   "cell_type": "code",
   "execution_count": 51,
   "metadata": {},
   "outputs": [],
   "source": [
    "import numpy as np\n",
    "import pandas as pd\n",
    "import xgboost as xgb\n",
    "import matplotlib.pyplot as plt\n",
    "from sklearn.preprocessing import OneHotEncoder, OrdinalEncoder\n",
    "from sklearn.metrics import confusion_matrix, ConfusionMatrixDisplay\n",
    "\n",
    "from utils import generate_datasets, generate_metrics\n",
    "from utils.variables import (\n",
    "    data_url,\n",
    "    label_mapping,\n",
    "    object_cols,\n",
    "    ordinal_cols,\n",
    "    random_state,\n",
    "    y_label,\n",
    ")\n"
   ]
  },
  {
   "cell_type": "markdown",
   "metadata": {},
   "source": [
    "## 0 - Loading the Data\n",
    "\n",
    "Before we begin any experimentation we load the data from the specified GCS bucket into a pandas dataframe before splitting into the required 60/20/20 train, val, test splits."
   ]
  },
  {
   "cell_type": "code",
   "execution_count": 52,
   "metadata": {},
   "outputs": [],
   "source": [
    "x_train, y_train, x_val, y_val, x_test, y_test = generate_datasets(\n",
    "    data_url, y_label, random_state, label_mapping\n",
    ")"
   ]
  },
  {
   "cell_type": "markdown",
   "metadata": {},
   "source": [
    "## 1 - Creating a Naive Baseline\n",
    "\n",
    "To test that the final model performs well, we set up a naive baseline model that simply takes the mean age of the training data and predicts pets below the mean age are adopted and those above are not. This is under the assumption that people have a strong preference for younger pets."
   ]
  },
  {
   "cell_type": "code",
   "execution_count": 53,
   "metadata": {},
   "outputs": [],
   "source": [
    "# Data will only consist of the Age column\n",
    "x_train_naive = x_train[\"Age\"]\n",
    "x_val_naive = x_val[\"Age\"]\n",
    "x_test_naive = x_test[\"Age\"]"
   ]
  },
  {
   "cell_type": "code",
   "execution_count": 54,
   "metadata": {},
   "outputs": [],
   "source": [
    "class Naive_Model:\n",
    "    def __init__(self, x_train):\n",
    "        self.mean = x_train.mean()\n",
    "\n",
    "    def predict(self, X):\n",
    "        return X.apply(lambda row: 1 if row < self.mean else 0)"
   ]
  },
  {
   "cell_type": "code",
   "execution_count": 55,
   "metadata": {},
   "outputs": [],
   "source": [
    "# Generate predictions\n",
    "naive_model = Naive_Model(x_train=x_train_naive)\n",
    "y_pred_naive = naive_model.predict(x_test_naive)"
   ]
  },
  {
   "cell_type": "code",
   "execution_count": 56,
   "metadata": {},
   "outputs": [
    {
     "name": "stdout",
     "output_type": "stream",
     "text": [
      "Model Evaluation Metrics:\n",
      "F1 Score: 0.7808260476334036\n",
      "Accuracy: 0.6850086655112652\n",
      "Recall: 0.7759137207908927\n",
      "ROC AUC: 0.6117440278445856\n"
     ]
    }
   ],
   "source": [
    "# Evaluation\n",
    "naive_f1, naive_acc, naive_recall, naive_roc_auc = generate_metrics(y_test, y_pred_naive)\n",
    "print(\n",
    "    f\"Model Evaluation Metrics:\\nF1 Score: {naive_f1}\\nAccuracy: {naive_acc}\\nRecall: {naive_recall}\\nROC AUC: {naive_roc_auc}\"\n",
    ")"
   ]
  },
  {
   "cell_type": "code",
   "execution_count": 57,
   "metadata": {},
   "outputs": [
    {
     "data": {
      "text/plain": [
       "<sklearn.metrics._plot.confusion_matrix.ConfusionMatrixDisplay at 0x132563510>"
      ]
     },
     "execution_count": 57,
     "metadata": {},
     "output_type": "execute_result"
    },
    {
     "data": {
      "image/png": "[encoded data removed]",
      "text/plain": [
       "<Figure size 640x480 with 2 Axes>"
      ]
     },
     "metadata": {},
     "output_type": "display_data"
    }
   ],
   "source": [
    "cm = confusion_matrix(y_test, y_pred_naive)\n",
    "disp = ConfusionMatrixDisplay(confusion_matrix=cm)\n",
    "disp.plot()"
   ]
  },
  {
   "cell_type": "code",
   "execution_count": 58,
   "metadata": {},
   "outputs": [
    {
     "name": "stdout",
     "output_type": "stream",
     "text": [
      "There are 1648 pets under the mean age of 11.458971395550419 and 660 above this mean age\n"
     ]
    }
   ],
   "source": [
    "# Count number of pets below mean age and above\n",
    "# naive_model.mean\n",
    "pos_count_naive = (x_test_naive < naive_model.mean).sum()\n",
    "neg_count_naive = len(x_test_naive) - pos_count_naive\n",
    "\n",
    "print(f\"There are {pos_count_naive} pets under the mean age of {naive_model.mean} and {neg_count_naive} above this mean age\")"
   ]
  },
  {
   "cell_type": "markdown",
   "metadata": {},
   "source": [
    "We can see from this initial naive model is good at classifying pets that were adopted but for ones that weren't it was almost a 50/50 guess. This result could be attributed the fact that the majority of pets (1648 out of 2308) are under the the mean age of 11.46 years. Also if we look at the figure below we can see that there is heavy class imbalance so since the majority of the labels are positive (i.e. adopted) and since the majority of pets are under the age of 11.46 years a naive model would perform well."
   ]
  },
  {
   "cell_type": "code",
   "execution_count": 59,
   "metadata": {},
   "outputs": [
    {
     "data": {
      "text/plain": [
       "<Axes: ylabel='Adopted'>"
      ]
     },
     "execution_count": 59,
     "metadata": {},
     "output_type": "execute_result"
    },
    {
     "data": {
      "image/png": "[encoded data removed]",
      "text/plain": [
       "<Figure size 640x480 with 1 Axes>"
      ]
     },
     "metadata": {},
     "output_type": "display_data"
    }
   ],
   "source": [
    "y_train.value_counts().sort_index().plot(kind='barh', color='teal')"
   ]
  },
  {
   "cell_type": "markdown",
   "metadata": {},
   "source": [
    "## 2 - Basic ML\n",
    "\n",
    "Now we have our naive baseline we would like to test how well a simple XGBoost model performs. To ensure that categorical data columns can be consumed by the model we do a very basic transformation to encode the object columns as an enumerated type.\n",
    "\n",
    "This will provide base level metrics for:\n",
    "1. How much better (or worse) a simple XGBoost model is over the naive baseline\n",
    "2. Provide a baseline from which we can assess if feature engineering provides an improvement"
   ]
  },
  {
   "cell_type": "code",
   "execution_count": 60,
   "metadata": {},
   "outputs": [],
   "source": [
    "# Separate categorical and numerical cols\n",
    "num_cols = x_train._get_numeric_data().columns\n",
    "cat_cols = list(set(x_train.columns) - set(num_cols))"
   ]
  },
  {
   "cell_type": "code",
   "execution_count": 61,
   "metadata": {},
   "outputs": [],
   "source": [
    "# Make a copy of the dataset for transformation\n",
    "x_train_base = x_train.copy(deep=True)\n",
    "x_val_base = x_val.copy(deep=True)\n",
    "x_test_base = x_test.copy(deep=True)"
   ]
  },
  {
   "cell_type": "code",
   "execution_count": 62,
   "metadata": {},
   "outputs": [],
   "source": [
    "# Use pd.factorize to encode object cols as enumerated types that can be consumed by the XGBoost model\n",
    "indexer = {}\n",
    "for col in cat_cols:\n",
    "    _, indexer[col] = pd.factorize(x_train_base[col].astype(str))\n",
    "\n",
    "for col in cat_cols:\n",
    "    x_train_base[col] = indexer[col].get_indexer(x_train_base[col].astype(str))\n",
    "    x_val_base[col] = indexer[col].get_indexer(x_val_base[col].astype(str))\n",
    "    x_test_base[col] = indexer[col].get_indexer(x_test_base[col].astype(str))"
   ]
  },
  {
   "cell_type": "code",
   "execution_count": 63,
   "metadata": {},
   "outputs": [
    {
     "name": "stdout",
     "output_type": "stream",
     "text": [
      "[0]\tvalidation_0-logloss:0.53780\tvalidation_1-logloss:0.53993\n",
      "[1]\tvalidation_0-logloss:0.51370\tvalidation_1-logloss:0.51978\n",
      "[2]\tvalidation_0-logloss:0.49615\tvalidation_1-logloss:0.50728\n",
      "[3]\tvalidation_0-logloss:0.48523\tvalidation_1-logloss:0.50072\n",
      "[4]\tvalidation_0-logloss:0.47711\tvalidation_1-logloss:0.49672\n",
      "[5]\tvalidation_0-logloss:0.46750\tvalidation_1-logloss:0.49084\n",
      "[6]\tvalidation_0-logloss:0.46141\tvalidation_1-logloss:0.48710\n",
      "[7]\tvalidation_0-logloss:0.45354\tvalidation_1-logloss:0.48701\n",
      "[8]\tvalidation_0-logloss:0.44806\tvalidation_1-logloss:0.48505\n",
      "[9]\tvalidation_0-logloss:0.44277\tvalidation_1-logloss:0.48496\n",
      "[10]\tvalidation_0-logloss:0.43795\tvalidation_1-logloss:0.48481\n",
      "[11]\tvalidation_0-logloss:0.43245\tvalidation_1-logloss:0.48555\n",
      "[12]\tvalidation_0-logloss:0.42960\tvalidation_1-logloss:0.48696\n",
      "[13]\tvalidation_0-logloss:0.42581\tvalidation_1-logloss:0.48745\n",
      "[14]\tvalidation_0-logloss:0.42143\tvalidation_1-logloss:0.48908\n"
     ]
    },
    {
     "name": "stdout",
     "output_type": "stream",
     "text": [
      "[15]\tvalidation_0-logloss:0.41844\tvalidation_1-logloss:0.48906\n",
      "[16]\tvalidation_0-logloss:0.41517\tvalidation_1-logloss:0.48887\n",
      "[17]\tvalidation_0-logloss:0.41268\tvalidation_1-logloss:0.48879\n",
      "[18]\tvalidation_0-logloss:0.41179\tvalidation_1-logloss:0.49013\n",
      "[19]\tvalidation_0-logloss:0.40909\tvalidation_1-logloss:0.49014\n",
      "[20]\tvalidation_0-logloss:0.40760\tvalidation_1-logloss:0.49003\n"
     ]
    },
    {
     "name": "stderr",
     "output_type": "stream",
     "text": [
      "/Users/hirurana/.pyenv/versions/3.11.2/lib/python3.11/site-packages/xgboost/data.py:335: FutureWarning: is_sparse is deprecated and will be removed in a future version. Check `isinstance(dtype, pd.SparseDtype)` instead.\n",
      "  if is_sparse(dtype):\n",
      "/Users/hirurana/.pyenv/versions/3.11.2/lib/python3.11/site-packages/xgboost/data.py:338: FutureWarning: is_categorical_dtype is deprecated and will be removed in a future version. Use isinstance(dtype, CategoricalDtype) instead\n",
      "  is_categorical_dtype(dtype) or is_pa_ext_categorical_dtype(dtype)\n",
      "/Users/hirurana/.pyenv/versions/3.11.2/lib/python3.11/site-packages/xgboost/data.py:384: FutureWarning: is_categorical_dtype is deprecated and will be removed in a future version. Use isinstance(dtype, CategoricalDtype) instead\n",
      "  if is_categorical_dtype(dtype):\n",
      "/Users/hirurana/.pyenv/versions/3.11.2/lib/python3.11/site-packages/xgboost/data.py:359: FutureWarning: is_categorical_dtype is deprecated and will be removed in a future version. Use isinstance(dtype, CategoricalDtype) instead\n",
      "  return is_int or is_bool or is_float or is_categorical_dtype(dtype)\n",
      "/Users/hirurana/.pyenv/versions/3.11.2/lib/python3.11/site-packages/xgboost/data.py:520: FutureWarning: is_sparse is deprecated and will be removed in a future version. Check `isinstance(dtype, pd.SparseDtype)` instead.\n",
      "  if is_sparse(data):\n",
      "/Users/hirurana/.pyenv/versions/3.11.2/lib/python3.11/site-packages/xgboost/data.py:335: FutureWarning: is_sparse is deprecated and will be removed in a future version. Check `isinstance(dtype, pd.SparseDtype)` instead.\n",
      "  if is_sparse(dtype):\n",
      "/Users/hirurana/.pyenv/versions/3.11.2/lib/python3.11/site-packages/xgboost/data.py:338: FutureWarning: is_categorical_dtype is deprecated and will be removed in a future version. Use isinstance(dtype, CategoricalDtype) instead\n",
      "  is_categorical_dtype(dtype) or is_pa_ext_categorical_dtype(dtype)\n",
      "/Users/hirurana/.pyenv/versions/3.11.2/lib/python3.11/site-packages/xgboost/data.py:384: FutureWarning: is_categorical_dtype is deprecated and will be removed in a future version. Use isinstance(dtype, CategoricalDtype) instead\n",
      "  if is_categorical_dtype(dtype):\n",
      "/Users/hirurana/.pyenv/versions/3.11.2/lib/python3.11/site-packages/xgboost/data.py:359: FutureWarning: is_categorical_dtype is deprecated and will be removed in a future version. Use isinstance(dtype, CategoricalDtype) instead\n",
      "  return is_int or is_bool or is_float or is_categorical_dtype(dtype)\n",
      "/Users/hirurana/.pyenv/versions/3.11.2/lib/python3.11/site-packages/xgboost/data.py:520: FutureWarning: is_sparse is deprecated and will be removed in a future version. Check `isinstance(dtype, pd.SparseDtype)` instead.\n",
      "  if is_sparse(data):\n"
     ]
    },
    {
     "data": {
      "text/html": [
       "<style>#sk-container-id-4 {color: black;}#sk-container-id-4 pre{padding: 0;}#sk-container-id-4 div.sk-toggleable {background-color: white;}#sk-container-id-4 label.sk-toggleable__label {cursor: pointer;display: block;width: 100%;margin-bottom: 0;padding: 0.3em;box-sizing: border-box;text-align: center;}#sk-container-id-4 label.sk-toggleable__label-arrow:before {content: \"▸\";float: left;margin-right: 0.25em;color: #696969;}#sk-container-id-4 label.sk-toggleable__label-arrow:hover:before {color: black;}#sk-container-id-4 div.sk-estimator:hover label.sk-toggleable__label-arrow:before {color: black;}#sk-container-id-4 div.sk-toggleable__content {max-height: 0;max-width: 0;overflow: hidden;text-align: left;background-color: #f0f8ff;}#sk-container-id-4 div.sk-toggleable__content pre {margin: 0.2em;color: black;border-radius: 0.25em;background-color: #f0f8ff;}#sk-container-id-4 input.sk-toggleable__control:checked~div.sk-toggleable__content {max-height: 200px;max-width: 100%;overflow: auto;}#sk-container-id-4 input.sk-toggleable__control:checked~label.sk-toggleable__label-arrow:before {content: \"▾\";}#sk-container-id-4 div.sk-estimator input.sk-toggleable__control:checked~label.sk-toggleable__label {background-color: #d4ebff;}#sk-container-id-4 div.sk-label input.sk-toggleable__control:checked~label.sk-toggleable__label {background-color: #d4ebff;}#sk-container-id-4 input.sk-hidden--visually {border: 0;clip: rect(1px 1px 1px 1px);clip: rect(1px, 1px, 1px, 1px);height: 1px;margin: -1px;overflow: hidden;padding: 0;position: absolute;width: 1px;}#sk-container-id-4 div.sk-estimator {font-family: monospace;background-color: #f0f8ff;border: 1px dotted black;border-radius: 0.25em;box-sizing: border-box;margin-bottom: 0.5em;}#sk-container-id-4 div.sk-estimator:hover {background-color: #d4ebff;}#sk-container-id-4 div.sk-parallel-item::after {content: \"\";width: 100%;border-bottom: 1px solid gray;flex-grow: 1;}#sk-container-id-4 div.sk-label:hover label.sk-toggleable__label {background-color: #d4ebff;}#sk-container-id-4 div.sk-serial::before {content: \"\";position: absolute;border-left: 1px solid gray;box-sizing: border-box;top: 0;bottom: 0;left: 50%;z-index: 0;}#sk-container-id-4 div.sk-serial {display: flex;flex-direction: column;align-items: center;background-color: white;padding-right: 0.2em;padding-left: 0.2em;position: relative;}#sk-container-id-4 div.sk-item {position: relative;z-index: 1;}#sk-container-id-4 div.sk-parallel {display: flex;align-items: stretch;justify-content: center;background-color: white;position: relative;}#sk-container-id-4 div.sk-item::before, #sk-container-id-4 div.sk-parallel-item::before {content: \"\";position: absolute;border-left: 1px solid gray;box-sizing: border-box;top: 0;bottom: 0;left: 50%;z-index: -1;}#sk-container-id-4 div.sk-parallel-item {display: flex;flex-direction: column;z-index: 1;position: relative;background-color: white;}#sk-container-id-4 div.sk-parallel-item:first-child::after {align-self: flex-end;width: 50%;}#sk-container-id-4 div.sk-parallel-item:last-child::after {align-self: flex-start;width: 50%;}#sk-container-id-4 div.sk-parallel-item:only-child::after {width: 0;}#sk-container-id-4 div.sk-dashed-wrapped {border: 1px dashed gray;margin: 0 0.4em 0.5em 0.4em;box-sizing: border-box;padding-bottom: 0.4em;background-color: white;}#sk-container-id-4 div.sk-label label {font-family: monospace;font-weight: bold;display: inline-block;line-height: 1.2em;}#sk-container-id-4 div.sk-label-container {text-align: center;}#sk-container-id-4 div.sk-container {/* jupyter's `normalize.less` sets `[hidden] { display: none; }` but bootstrap.min.css set `[hidden] { display: none !important; }` so we also need the `!important` here to be able to override the default hidden behavior on the sphinx rendered scikit-learn.org. See: https://github.com/scikit-learn/scikit-learn/issues/21755 */display: inline-block !important;position: relative;}#sk-container-id-4 div.sk-text-repr-fallback {display: none;}</style><div id=\"sk-container-id-4\" class=\"sk-top-container\"><div class=\"sk-text-repr-fallback\"><pre>XGBClassifier(base_score=None, booster=None, callbacks=None,\n",
       "              colsample_bylevel=None, colsample_bynode=None,\n",
       "              colsample_bytree=None, device=None, early_stopping_rounds=10,\n",
       "              enable_categorical=False, eval_metric=None, feature_types=None,\n",
       "              gamma=None, grow_policy=None, importance_type=None,\n",
       "              interaction_constraints=None, learning_rate=None, max_bin=None,\n",
       "              max_cat_threshold=None, max_cat_to_onehot=None,\n",
       "              max_delta_step=None, max_depth=None, max_leaves=None,\n",
       "              min_child_weight=None, missing=nan, monotone_constraints=None,\n",
       "              multi_strategy=None, n_estimators=None, n_jobs=None,\n",
       "              num_parallel_tree=None, random_state=42, ...)</pre><b>In a Jupyter environment, please rerun this cell to show the HTML representation or trust the notebook. <br />On GitHub, the HTML representation is unable to render, please try loading this page with nbviewer.org.</b></div><div class=\"sk-container\" hidden><div class=\"sk-item\"><div class=\"sk-estimator sk-toggleable\"><input class=\"sk-toggleable__control sk-hidden--visually\" id=\"sk-estimator-id-4\" type=\"checkbox\" checked><label for=\"sk-estimator-id-4\" class=\"sk-toggleable__label sk-toggleable__label-arrow\">XGBClassifier</label><div class=\"sk-toggleable__content\"><pre>XGBClassifier(base_score=None, booster=None, callbacks=None,\n",
       "              colsample_bylevel=None, colsample_bynode=None,\n",
       "              colsample_bytree=None, device=None, early_stopping_rounds=10,\n",
       "              enable_categorical=False, eval_metric=None, feature_types=None,\n",
       "              gamma=None, grow_policy=None, importance_type=None,\n",
       "              interaction_constraints=None, learning_rate=None, max_bin=None,\n",
       "              max_cat_threshold=None, max_cat_to_onehot=None,\n",
       "              max_delta_step=None, max_depth=None, max_leaves=None,\n",
       "              min_child_weight=None, missing=nan, monotone_constraints=None,\n",
       "              multi_strategy=None, n_estimators=None, n_jobs=None,\n",
       "              num_parallel_tree=None, random_state=42, ...)</pre></div></div></div></div></div>"
      ],
      "text/plain": [
       "XGBClassifier(base_score=None, booster=None, callbacks=None,\n",
       "              colsample_bylevel=None, colsample_bynode=None,\n",
       "              colsample_bytree=None, device=None, early_stopping_rounds=10,\n",
       "              enable_categorical=False, eval_metric=None, feature_types=None,\n",
       "              gamma=None, grow_policy=None, importance_type=None,\n",
       "              interaction_constraints=None, learning_rate=None, max_bin=None,\n",
       "              max_cat_threshold=None, max_cat_to_onehot=None,\n",
       "              max_delta_step=None, max_depth=None, max_leaves=None,\n",
       "              min_child_weight=None, missing=nan, monotone_constraints=None,\n",
       "              multi_strategy=None, n_estimators=None, n_jobs=None,\n",
       "              num_parallel_tree=None, random_state=42, ...)"
      ]
     },
     "execution_count": 63,
     "metadata": {},
     "output_type": "execute_result"
    }
   ],
   "source": [
    "# Defining the model\n",
    "base_model = xgb.XGBClassifier(\n",
    "    random_state=random_state,\n",
    "    early_stopping_rounds=10,\n",
    "    objective=\"binary:logistic\",\n",
    ")\n",
    "\n",
    "# Train\n",
    "base_model.fit(\n",
    "    x_train_base,\n",
    "    y_train,\n",
    "    eval_set=[(x_train_base, y_train), (x_val_base, y_val)],\n",
    ")"
   ]
  },
  {
   "cell_type": "code",
   "execution_count": 64,
   "metadata": {},
   "outputs": [
    {
     "name": "stdout",
     "output_type": "stream",
     "text": [
      "Model Evaluation Metrics:\n",
      "F1 Score: 0.8451169188445666\n",
      "Accuracy: 0.7560658578856152\n",
      "Recall: 0.920311563810665\n",
      "ROC AUC: 0.6236925581181652\n"
     ]
    },
    {
     "name": "stderr",
     "output_type": "stream",
     "text": [
      "/Users/hirurana/.pyenv/versions/3.11.2/lib/python3.11/site-packages/xgboost/data.py:335: FutureWarning: is_sparse is deprecated and will be removed in a future version. Check `isinstance(dtype, pd.SparseDtype)` instead.\n",
      "  if is_sparse(dtype):\n",
      "/Users/hirurana/.pyenv/versions/3.11.2/lib/python3.11/site-packages/xgboost/data.py:338: FutureWarning: is_categorical_dtype is deprecated and will be removed in a future version. Use isinstance(dtype, CategoricalDtype) instead\n",
      "  is_categorical_dtype(dtype) or is_pa_ext_categorical_dtype(dtype)\n",
      "/Users/hirurana/.pyenv/versions/3.11.2/lib/python3.11/site-packages/xgboost/data.py:384: FutureWarning: is_categorical_dtype is deprecated and will be removed in a future version. Use isinstance(dtype, CategoricalDtype) instead\n",
      "  if is_categorical_dtype(dtype):\n",
      "/Users/hirurana/.pyenv/versions/3.11.2/lib/python3.11/site-packages/xgboost/data.py:359: FutureWarning: is_categorical_dtype is deprecated and will be removed in a future version. Use isinstance(dtype, CategoricalDtype) instead\n",
      "  return is_int or is_bool or is_float or is_categorical_dtype(dtype)\n"
     ]
    }
   ],
   "source": [
    "# Prediction\n",
    "y_pred_base = base_model.predict(x_test_base)\n",
    "\n",
    "# Evaluation\n",
    "base_f1, base_acc, base_recall, base_roc_auc = generate_metrics(y_test, y_pred_base)\n",
    "print(\n",
    "    f\"Model Evaluation Metrics:\\nF1 Score: {base_f1}\\nAccuracy: {base_acc}\\nRecall: {base_recall}\\nROC AUC: {base_roc_auc}\"\n",
    ")"
   ]
  },
  {
   "cell_type": "code",
   "execution_count": 65,
   "metadata": {},
   "outputs": [
    {
     "data": {
      "text/plain": [
       "<sklearn.metrics._plot.confusion_matrix.ConfusionMatrixDisplay at 0x1324cf250>"
      ]
     },
     "execution_count": 65,
     "metadata": {},
     "output_type": "execute_result"
    },
    {
     "data": {
      "image/png": "[encoded data removed]",
      "text/plain": [
       "<Figure size 640x480 with 2 Axes>"
      ]
     },
     "metadata": {},
     "output_type": "display_data"
    }
   ],
   "source": [
    "# Plot confusion matrix\n",
    "cm = confusion_matrix(y_test, y_pred_base)\n",
    "disp = ConfusionMatrixDisplay(confusion_matrix=cm)\n",
    "disp.plot()"
   ]
  },
  {
   "cell_type": "markdown",
   "metadata": {},
   "source": [
    "We can see that there is an increase in accuracy, f1 score and recall although these figures are misleading. If we look at the ROC AUC we can see that this is lower than the naive model indicating poorer performance in terms of it's ability to classify between the adopted and not adopted classes. If we look at the confusion matrix we can see why this is the case. The model seems to just predict most of the pets are adopted as we can see that there are much more false positives than true negatives."
   ]
  },
  {
   "cell_type": "markdown",
   "metadata": {},
   "source": [
    "## 3 - Feature Engineered Model\n",
    "\n",
    "We now attempt to feature engineer some of the columns in our dataset in hope of trying to increase the model performance.\n",
    "\n",
    "First we could look into the numerical columns. In our base model we did not touch these values. Lets take a look at their distributions:"
   ]
  },
  {
   "cell_type": "code",
   "execution_count": 66,
   "metadata": {},
   "outputs": [
    {
     "data": {
      "text/html": [
       "<div>\n",
       "<style scoped>\n",
       "    .dataframe tbody tr th:only-of-type {\n",
       "        vertical-align: middle;\n",
       "    }\n",
       "\n",
       "    .dataframe tbody tr th {\n",
       "        vertical-align: top;\n",
       "    }\n",
       "\n",
       "    .dataframe thead th {\n",
       "        text-align: right;\n",
       "    }\n",
       "</style>\n",
       "<table border=\"1\" class=\"dataframe\">\n",
       "  <thead>\n",
       "    <tr style=\"text-align: right;\">\n",
       "      <th></th>\n",
       "      <th>Age</th>\n",
       "      <th>Fee</th>\n",
       "      <th>PhotoAmt</th>\n",
       "    </tr>\n",
       "  </thead>\n",
       "  <tbody>\n",
       "    <tr>\n",
       "      <th>count</th>\n",
       "      <td>6922.000000</td>\n",
       "      <td>6922.000000</td>\n",
       "      <td>6922.000000</td>\n",
       "    </tr>\n",
       "    <tr>\n",
       "      <th>mean</th>\n",
       "      <td>11.458971</td>\n",
       "      <td>22.888760</td>\n",
       "      <td>3.626697</td>\n",
       "    </tr>\n",
       "    <tr>\n",
       "      <th>std</th>\n",
       "      <td>18.372476</td>\n",
       "      <td>78.356008</td>\n",
       "      <td>3.149628</td>\n",
       "    </tr>\n",
       "    <tr>\n",
       "      <th>min</th>\n",
       "      <td>0.000000</td>\n",
       "      <td>0.000000</td>\n",
       "      <td>0.000000</td>\n",
       "    </tr>\n",
       "    <tr>\n",
       "      <th>25%</th>\n",
       "      <td>2.000000</td>\n",
       "      <td>0.000000</td>\n",
       "      <td>2.000000</td>\n",
       "    </tr>\n",
       "    <tr>\n",
       "      <th>50%</th>\n",
       "      <td>4.000000</td>\n",
       "      <td>0.000000</td>\n",
       "      <td>3.000000</td>\n",
       "    </tr>\n",
       "    <tr>\n",
       "      <th>75%</th>\n",
       "      <td>12.000000</td>\n",
       "      <td>0.000000</td>\n",
       "      <td>5.000000</td>\n",
       "    </tr>\n",
       "    <tr>\n",
       "      <th>max</th>\n",
       "      <td>180.000000</td>\n",
       "      <td>2000.000000</td>\n",
       "      <td>30.000000</td>\n",
       "    </tr>\n",
       "  </tbody>\n",
       "</table>\n",
       "</div>"
      ],
      "text/plain": [
       "               Age          Fee     PhotoAmt\n",
       "count  6922.000000  6922.000000  6922.000000\n",
       "mean     11.458971    22.888760     3.626697\n",
       "std      18.372476    78.356008     3.149628\n",
       "min       0.000000     0.000000     0.000000\n",
       "25%       2.000000     0.000000     2.000000\n",
       "50%       4.000000     0.000000     3.000000\n",
       "75%      12.000000     0.000000     5.000000\n",
       "max     180.000000  2000.000000    30.000000"
      ]
     },
     "execution_count": 66,
     "metadata": {},
     "output_type": "execute_result"
    }
   ],
   "source": [
    "x_train.describe()"
   ]
  },
  {
   "cell_type": "code",
   "execution_count": 67,
   "metadata": {},
   "outputs": [
    {
     "data": {
      "image/png": "[encoded data removed]",
      "text/plain": [
       "<Figure size 640x480 with 1 Axes>"
      ]
     },
     "metadata": {},
     "output_type": "display_data"
    },
    {
     "data": {
      "image/png": "[encoded data removed]",
      "text/plain": [
       "<Figure size 640x480 with 1 Axes>"
      ]
     },
     "metadata": {},
     "output_type": "display_data"
    },
    {
     "data": {
      "image/png": "[encoded data removed]",
      "text/plain": [
       "<Figure size 640x480 with 1 Axes>"
      ]
     },
     "metadata": {},
     "output_type": "display_data"
    }
   ],
   "source": [
    "for col in num_cols:\n",
    "    x_train[col].hist()\n",
    "    plt.title(col)\n",
    "    plt.show()"
   ]
  },
  {
   "cell_type": "markdown",
   "metadata": {},
   "source": [
    "We can see that all numercial columns are heavily positively skewed. To rectify that we could log transform them"
   ]
  },
  {
   "cell_type": "code",
   "execution_count": 68,
   "metadata": {},
   "outputs": [],
   "source": [
    "x_train[num_cols] = x_train[num_cols].transform([np.log1p])\n",
    "x_val[num_cols] = x_val[num_cols].transform([np.log1p])\n",
    "x_test[num_cols] = x_test[num_cols].transform([np.log1p])"
   ]
  },
  {
   "cell_type": "code",
   "execution_count": 69,
   "metadata": {},
   "outputs": [
    {
     "data": {
      "image/png": "[encoded data removed]",
      "text/plain": [
       "<Figure size 640x480 with 1 Axes>"
      ]
     },
     "metadata": {},
     "output_type": "display_data"
    },
    {
     "data": {
      "image/png": "[encoded data removed]",
      "text/plain": [
       "<Figure size 640x480 with 1 Axes>"
      ]
     },
     "metadata": {},
     "output_type": "display_data"
    },
    {
     "data": {
      "image/png": "[encoded data removed]",
      "text/plain": [
       "<Figure size 640x480 with 1 Axes>"
      ]
     },
     "metadata": {},
     "output_type": "display_data"
    }
   ],
   "source": [
    "for col in num_cols:\n",
    "    x_train[col].hist()\n",
    "    plt.title(col)\n",
    "    plt.show()"
   ]
  },
  {
   "cell_type": "markdown",
   "metadata": {},
   "source": [
    "PhotoAmt and Age seems to have benefited from this transformation but not so much Fee. Perhaps this should be a boolean column of `Is_Fee`"
   ]
  },
  {
   "cell_type": "code",
   "execution_count": 70,
   "metadata": {},
   "outputs": [
    {
     "name": "stdout",
     "output_type": "stream",
     "text": [
      "5762 are 0\n",
      "1160 are 1\n"
     ]
    }
   ],
   "source": [
    "fee_transformed = (x_train[\"Fee\"] != 0)\n",
    "\n",
    "print(f\"{(fee_transformed == 0).sum()} are 0\\n{(fee_transformed == 1).sum()} are 1\")"
   ]
  },
  {
   "cell_type": "markdown",
   "metadata": {},
   "source": [
    "We can see that most of these rows are 0 so having a boolean may enrich our model's ability to learn something from this column"
   ]
  },
  {
   "cell_type": "code",
   "execution_count": 71,
   "metadata": {},
   "outputs": [],
   "source": [
    "x_train[\"Fee\"] = fee_transformed\n",
    "x_val[\"Fee\"] = (x_val[\"Fee\"] != 0)\n",
    "x_test[\"Fee\"] = (x_test[\"Fee\"] != 0)"
   ]
  },
  {
   "cell_type": "markdown",
   "metadata": {},
   "source": [
    "We could also look into the categorical columns. In our base model we naively converted them all into an ordinal encoding. This time we could look to make more meaningful transformations"
   ]
  },
  {
   "cell_type": "code",
   "execution_count": 72,
   "metadata": {},
   "outputs": [
    {
     "name": "stdout",
     "output_type": "stream",
     "text": [
      "Gender: ['Female' 'Male']\n",
      "Color1: ['Black' 'Golden' 'Brown' 'Gray' 'White' 'Cream' 'Yellow']\n",
      "Color2: ['No Color' 'Golden' 'Brown' 'White' 'Cream' 'Gray' 'Yellow']\n",
      "MaturitySize: ['Medium' 'Large' 'Small']\n",
      "FurLength: ['Short' 'Medium' 'Long']\n",
      "Type: ['Dog' 'Cat']\n",
      "Health: ['Healthy' 'Minor Injury' 'Serious Injury']\n",
      "Breed1: ['Mixed Breed' 'Domestic Short Hair' 'Domestic Medium Hair' 'Tabby'\n",
      " 'Bengal' 'Siamese' 'Poodle' 'Domestic Long Hair' 'Pointer' 'Rottweiler'\n",
      " 'Dachshund' 'Shih Tzu' 'Labrador Retriever' 'German Shepherd Dog'\n",
      " 'Black Labrador Retriever' 'Persian' 'Jack Russell Terrier'\n",
      " 'English Bulldog' 'Pug' 'Siberian Husky' 'Burmilla' 'Terrier'\n",
      " 'Maine Coon' 'Tonkinese' 'Pomeranian' 'Dalmatian' 'Schnauzer'\n",
      " 'Oriental Short Hair' 'Shar Pei' 'Golden Retriever' 'British Shorthair'\n",
      " 'Miniature Pinscher' 'Calico' 'Doberman Pinscher' 'Weimaraner' 'Beagle'\n",
      " 'Silky Terrier' 'Old English Sheepdog' 'Burmese'\n",
      " 'Yellow Labrador Retriever' 'Cocker Spaniel' 'Spitz' 'Havana'\n",
      " 'Russian Blue' 'Jack Russell Terrier (Parson Russell Terrier)'\n",
      " 'Abyssinian' 'Siberian' 'English Cocker Spaniel' 'Tortoiseshell'\n",
      " 'Japanese Bobtail' 'Bull Terrier' 'Javanese' 'Hound' 'Retriever'\n",
      " 'Extra-Toes Cat (Hemingway Polydactyl)' 'Husky' 'Tuxedo' 'Ragdoll'\n",
      " 'Snowshoe' 'Maltese' 'Belgian Shepherd Malinois' 'Chihuahua'\n",
      " 'American Shorthair' 'Silver' 'Mountain Dog' 'Belgian Shepherd Laekenois'\n",
      " 'Lhasa Apso' 'Yorkshire Terrier Yorkie' 'Kai Dog' 'Singapura' 'Basenji'\n",
      " 'Munsterlander' 'French Bulldog' 'Bobtail' 'Basset Hound' 'Tiger'\n",
      " 'Pit Bull Terrier' 'Oriental Long Hair' 'Turkish Angora'\n",
      " 'German Pinscher' 'American Bulldog' 'Border Collie' 'Boston Terrier'\n",
      " 'Pekingese' 'German Spitz' 'Australian Kelpie' 'Wirehaired Terrier'\n",
      " 'Fox Terrier' 'Irish Setter' 'Collie' 'Rat Terrier' 'Whippet'\n",
      " 'Standard Poodle' 'Toy Fox Terrier' 'Saint Bernard' 'Boxer' 'Turkish Van'\n",
      " 'West Highland White Terrier Westie' 'Manchester Terrier' 'Dilute Calico'\n",
      " 'Oriental Tabby' 'Australian Shepherd' 'American Curl' 'Himalayan'\n",
      " 'Ocicat' 'Bullmastiff' 'Bombay' 'Corgi' 'Norwegian Forest Cat' 'Manx'\n",
      " 'Korat' 'Dilute Tortoiseshell' 'Shetland Sheepdog Sheltie' 'Akita'\n",
      " 'Nebelung' 'Great Dane' 'Glen of Imaal Terrier' 'Ragamuffin'\n",
      " 'Staffordshire Bull Terrier' 'Cymric' 'Papillon' 'Mastiff' 'Shiba Inu'\n",
      " 'American Wirehair' 'Coonhound' 'Flat-coated Retriever'\n",
      " 'Sphynx (hairless cat)' 'Cavalier King Charles Spaniel' 'Balinese'\n",
      " 'Egyptian Mau' 'Greyhound' 'Chinese Crested Dog' 'Chow Chow' '0'\n",
      " 'American Staffordshire Terrier' 'Somali' 'Chausie'\n",
      " 'English Springer Spaniel' 'Welsh Corgi' 'Australian Terrier'\n",
      " 'Wheaten Terrier']\n",
      "Sterilized: ['Yes' 'No' 'Not Sure']\n",
      "Vaccinated: ['Yes' 'No' 'Not Sure']\n"
     ]
    }
   ],
   "source": [
    "for col in cat_cols:\n",
    "    print(f\"{col}: {x_train[col].unique()}\")"
   ]
  },
  {
   "cell_type": "markdown",
   "metadata": {},
   "source": [
    "The following columns might make more sense to be one hot coded instead seen as the category values seem to bear no relationship between them:\n",
    "1. Color 1\n",
    "2. Color 2\n",
    "3. Gender\n",
    "4. Type\n",
    "3. Sterilised\n",
    "4. Vaccinated"
   ]
  },
  {
   "cell_type": "code",
   "execution_count": 73,
   "metadata": {},
   "outputs": [
    {
     "name": "stderr",
     "output_type": "stream",
     "text": [
      "/Users/hirurana/.pyenv/versions/3.11.2/lib/python3.11/site-packages/sklearn/preprocessing/_encoders.py:975: FutureWarning: `sparse` was renamed to `sparse_output` in version 1.2 and will be removed in 1.4. `sparse_output` is ignored unless you leave `sparse` to its default value.\n",
      "  warnings.warn(\n"
     ]
    }
   ],
   "source": [
    "object_cols = [\"Gender\", \"Type\", \"Color1\", \"Color2\", \"Sterilized\", \"Vaccinated\"]\n",
    "\n",
    "OH_encoder = OneHotEncoder(handle_unknown=\"ignore\", sparse=False, drop=\"if_binary\")\n",
    "OH_cols_train = pd.DataFrame(OH_encoder.fit_transform(x_train[object_cols]))\n",
    "OH_cols_val = pd.DataFrame(OH_encoder.transform(x_val[object_cols]))\n",
    "OH_cols_test = pd.DataFrame(OH_encoder.transform(x_test[object_cols]))\n",
    "\n",
    "OH_cols_train.index = x_train.index\n",
    "OH_cols_val.index = x_val.index\n",
    "OH_cols_test.index = x_test.index\n",
    "\n",
    "non_OH_x_train = x_train.drop(object_cols, axis=1)\n",
    "non_OH_x_val = x_val.drop(object_cols, axis=1)\n",
    "non_OH_x_test = x_test.drop(object_cols, axis=1)\n",
    "\n",
    "x_train = pd.concat([non_OH_x_train, OH_cols_train], axis=1)\n",
    "x_val = pd.concat([non_OH_x_val, OH_cols_val], axis=1)\n",
    "x_test = pd.concat([non_OH_x_test, OH_cols_test], axis=1)"
   ]
  },
  {
   "cell_type": "markdown",
   "metadata": {},
   "source": [
    "The following columns might make more sense to be ordinally encoded since the values for these categories seems to have an ordinal relationship:\n",
    "1. Fur length\n",
    "2. Health\n",
    "5. Maturitysize"
   ]
  },
  {
   "cell_type": "code",
   "execution_count": 74,
   "metadata": {},
   "outputs": [],
   "source": [
    "ordinal_cols = [\"FurLength\", \"Health\", \"MaturitySize\"]\n",
    "\n",
    "ord_encoder = OrdinalEncoder(categories=[[\"Short\", \"Medium\", \"Long\"], ['Healthy', 'Minor Injury', 'Serious Injury'], ['Small', 'Medium', 'Large']])\n",
    "x_train[ordinal_cols] = ord_encoder.fit_transform(x_train[ordinal_cols])\n",
    "x_val[ordinal_cols] = ord_encoder.transform(x_val[ordinal_cols])\n",
    "x_test[ordinal_cols] = ord_encoder.transform(x_test[ordinal_cols])"
   ]
  },
  {
   "cell_type": "markdown",
   "metadata": {},
   "source": [
    "In the interest of time we are dropping breed names but would have explored creating buckets via K-means clustering or TF-IDF vectorisation to create a more meaningful feature out of this."
   ]
  },
  {
   "cell_type": "code",
   "execution_count": 75,
   "metadata": {},
   "outputs": [],
   "source": [
    "x_train = x_train.drop([\"Breed1\"], axis=1)\n",
    "x_val = x_val.drop([\"Breed1\"], axis=1)\n",
    "x_test = x_test.drop([\"Breed1\"], axis=1)"
   ]
  },
  {
   "cell_type": "markdown",
   "metadata": {},
   "source": [
    "This time we are adding in a couple of hyperparams to improve model performance:\n",
    "1. The number of estimators has been changed to 40\n",
    "2. Max depth of each tree has been reduced to 4 to reduce overfitting\n",
    "3. A scale_pos_weight parameter has been set to 0.4. This is said to help deal with unbalanced classes and as a rule of thumb should be set to `sum(negative instances) / sum(positive instances)`"
   ]
  },
  {
   "cell_type": "code",
   "execution_count": 76,
   "metadata": {},
   "outputs": [
    {
     "name": "stdout",
     "output_type": "stream",
     "text": [
      "[0]\tvalidation_0-aucpr:0.86339\tvalidation_1-aucpr:0.85725\n",
      "[1]\tvalidation_0-aucpr:0.87295\tvalidation_1-aucpr:0.88136\n",
      "[2]\tvalidation_0-aucpr:0.87632\tvalidation_1-aucpr:0.88166\n"
     ]
    },
    {
     "name": "stdout",
     "output_type": "stream",
     "text": [
      "[3]\tvalidation_0-aucpr:0.88168\tvalidation_1-aucpr:0.88626\n",
      "[4]\tvalidation_0-aucpr:0.88599\tvalidation_1-aucpr:0.88724\n",
      "[5]\tvalidation_0-aucpr:0.88764\tvalidation_1-aucpr:0.88796\n",
      "[6]\tvalidation_0-aucpr:0.88940\tvalidation_1-aucpr:0.88760\n",
      "[7]\tvalidation_0-aucpr:0.89197\tvalidation_1-aucpr:0.88841\n",
      "[8]\tvalidation_0-aucpr:0.89349\tvalidation_1-aucpr:0.88909\n",
      "[9]\tvalidation_0-aucpr:0.89442\tvalidation_1-aucpr:0.88849\n",
      "[10]\tvalidation_0-aucpr:0.89613\tvalidation_1-aucpr:0.88861\n",
      "[11]\tvalidation_0-aucpr:0.89715\tvalidation_1-aucpr:0.88896\n",
      "[12]\tvalidation_0-aucpr:0.89841\tvalidation_1-aucpr:0.88958\n",
      "[13]\tvalidation_0-aucpr:0.89945\tvalidation_1-aucpr:0.88872\n",
      "[14]\tvalidation_0-aucpr:0.90047\tvalidation_1-aucpr:0.88947\n",
      "[15]\tvalidation_0-aucpr:0.90100\tvalidation_1-aucpr:0.88926\n",
      "[16]\tvalidation_0-aucpr:0.90340\tvalidation_1-aucpr:0.88955\n",
      "[17]\tvalidation_0-aucpr:0.90395\tvalidation_1-aucpr:0.88892\n"
     ]
    },
    {
     "name": "stderr",
     "output_type": "stream",
     "text": [
      "/Users/hirurana/.pyenv/versions/3.11.2/lib/python3.11/site-packages/xgboost/data.py:335: FutureWarning: is_sparse is deprecated and will be removed in a future version. Check `isinstance(dtype, pd.SparseDtype)` instead.\n",
      "  if is_sparse(dtype):\n",
      "/Users/hirurana/.pyenv/versions/3.11.2/lib/python3.11/site-packages/xgboost/data.py:338: FutureWarning: is_categorical_dtype is deprecated and will be removed in a future version. Use isinstance(dtype, CategoricalDtype) instead\n",
      "  is_categorical_dtype(dtype) or is_pa_ext_categorical_dtype(dtype)\n",
      "/Users/hirurana/.pyenv/versions/3.11.2/lib/python3.11/site-packages/xgboost/data.py:384: FutureWarning: is_categorical_dtype is deprecated and will be removed in a future version. Use isinstance(dtype, CategoricalDtype) instead\n",
      "  if is_categorical_dtype(dtype):\n",
      "/Users/hirurana/.pyenv/versions/3.11.2/lib/python3.11/site-packages/xgboost/data.py:359: FutureWarning: is_categorical_dtype is deprecated and will be removed in a future version. Use isinstance(dtype, CategoricalDtype) instead\n",
      "  return is_int or is_bool or is_float or is_categorical_dtype(dtype)\n",
      "/Users/hirurana/.pyenv/versions/3.11.2/lib/python3.11/site-packages/xgboost/data.py:520: FutureWarning: is_sparse is deprecated and will be removed in a future version. Check `isinstance(dtype, pd.SparseDtype)` instead.\n",
      "  if is_sparse(data):\n",
      "/Users/hirurana/.pyenv/versions/3.11.2/lib/python3.11/site-packages/xgboost/data.py:335: FutureWarning: is_sparse is deprecated and will be removed in a future version. Check `isinstance(dtype, pd.SparseDtype)` instead.\n",
      "  if is_sparse(dtype):\n",
      "/Users/hirurana/.pyenv/versions/3.11.2/lib/python3.11/site-packages/xgboost/data.py:338: FutureWarning: is_categorical_dtype is deprecated and will be removed in a future version. Use isinstance(dtype, CategoricalDtype) instead\n",
      "  is_categorical_dtype(dtype) or is_pa_ext_categorical_dtype(dtype)\n",
      "/Users/hirurana/.pyenv/versions/3.11.2/lib/python3.11/site-packages/xgboost/data.py:384: FutureWarning: is_categorical_dtype is deprecated and will be removed in a future version. Use isinstance(dtype, CategoricalDtype) instead\n",
      "  if is_categorical_dtype(dtype):\n",
      "/Users/hirurana/.pyenv/versions/3.11.2/lib/python3.11/site-packages/xgboost/data.py:359: FutureWarning: is_categorical_dtype is deprecated and will be removed in a future version. Use isinstance(dtype, CategoricalDtype) instead\n",
      "  return is_int or is_bool or is_float or is_categorical_dtype(dtype)\n",
      "/Users/hirurana/.pyenv/versions/3.11.2/lib/python3.11/site-packages/xgboost/data.py:520: FutureWarning: is_sparse is deprecated and will be removed in a future version. Check `isinstance(dtype, pd.SparseDtype)` instead.\n",
      "  if is_sparse(data):\n"
     ]
    },
    {
     "name": "stdout",
     "output_type": "stream",
     "text": [
      "[18]\tvalidation_0-aucpr:0.90466\tvalidation_1-aucpr:0.88966\n",
      "[19]\tvalidation_0-aucpr:0.90563\tvalidation_1-aucpr:0.88923\n",
      "[20]\tvalidation_0-aucpr:0.90597\tvalidation_1-aucpr:0.88847\n",
      "[21]\tvalidation_0-aucpr:0.90697\tvalidation_1-aucpr:0.88768\n",
      "[22]\tvalidation_0-aucpr:0.90718\tvalidation_1-aucpr:0.88724\n",
      "[23]\tvalidation_0-aucpr:0.90778\tvalidation_1-aucpr:0.88672\n",
      "[24]\tvalidation_0-aucpr:0.90860\tvalidation_1-aucpr:0.88718\n",
      "[25]\tvalidation_0-aucpr:0.90946\tvalidation_1-aucpr:0.88688\n",
      "[26]\tvalidation_0-aucpr:0.91008\tvalidation_1-aucpr:0.88753\n",
      "[27]\tvalidation_0-aucpr:0.91064\tvalidation_1-aucpr:0.88745\n",
      "[28]\tvalidation_0-aucpr:0.91142\tvalidation_1-aucpr:0.88760\n"
     ]
    },
    {
     "data": {
      "text/html": [
       "<style>#sk-container-id-5 {color: black;}#sk-container-id-5 pre{padding: 0;}#sk-container-id-5 div.sk-toggleable {background-color: white;}#sk-container-id-5 label.sk-toggleable__label {cursor: pointer;display: block;width: 100%;margin-bottom: 0;padding: 0.3em;box-sizing: border-box;text-align: center;}#sk-container-id-5 label.sk-toggleable__label-arrow:before {content: \"▸\";float: left;margin-right: 0.25em;color: #696969;}#sk-container-id-5 label.sk-toggleable__label-arrow:hover:before {color: black;}#sk-container-id-5 div.sk-estimator:hover label.sk-toggleable__label-arrow:before {color: black;}#sk-container-id-5 div.sk-toggleable__content {max-height: 0;max-width: 0;overflow: hidden;text-align: left;background-color: #f0f8ff;}#sk-container-id-5 div.sk-toggleable__content pre {margin: 0.2em;color: black;border-radius: 0.25em;background-color: #f0f8ff;}#sk-container-id-5 input.sk-toggleable__control:checked~div.sk-toggleable__content {max-height: 200px;max-width: 100%;overflow: auto;}#sk-container-id-5 input.sk-toggleable__control:checked~label.sk-toggleable__label-arrow:before {content: \"▾\";}#sk-container-id-5 div.sk-estimator input.sk-toggleable__control:checked~label.sk-toggleable__label {background-color: #d4ebff;}#sk-container-id-5 div.sk-label input.sk-toggleable__control:checked~label.sk-toggleable__label {background-color: #d4ebff;}#sk-container-id-5 input.sk-hidden--visually {border: 0;clip: rect(1px 1px 1px 1px);clip: rect(1px, 1px, 1px, 1px);height: 1px;margin: -1px;overflow: hidden;padding: 0;position: absolute;width: 1px;}#sk-container-id-5 div.sk-estimator {font-family: monospace;background-color: #f0f8ff;border: 1px dotted black;border-radius: 0.25em;box-sizing: border-box;margin-bottom: 0.5em;}#sk-container-id-5 div.sk-estimator:hover {background-color: #d4ebff;}#sk-container-id-5 div.sk-parallel-item::after {content: \"\";width: 100%;border-bottom: 1px solid gray;flex-grow: 1;}#sk-container-id-5 div.sk-label:hover label.sk-toggleable__label {background-color: #d4ebff;}#sk-container-id-5 div.sk-serial::before {content: \"\";position: absolute;border-left: 1px solid gray;box-sizing: border-box;top: 0;bottom: 0;left: 50%;z-index: 0;}#sk-container-id-5 div.sk-serial {display: flex;flex-direction: column;align-items: center;background-color: white;padding-right: 0.2em;padding-left: 0.2em;position: relative;}#sk-container-id-5 div.sk-item {position: relative;z-index: 1;}#sk-container-id-5 div.sk-parallel {display: flex;align-items: stretch;justify-content: center;background-color: white;position: relative;}#sk-container-id-5 div.sk-item::before, #sk-container-id-5 div.sk-parallel-item::before {content: \"\";position: absolute;border-left: 1px solid gray;box-sizing: border-box;top: 0;bottom: 0;left: 50%;z-index: -1;}#sk-container-id-5 div.sk-parallel-item {display: flex;flex-direction: column;z-index: 1;position: relative;background-color: white;}#sk-container-id-5 div.sk-parallel-item:first-child::after {align-self: flex-end;width: 50%;}#sk-container-id-5 div.sk-parallel-item:last-child::after {align-self: flex-start;width: 50%;}#sk-container-id-5 div.sk-parallel-item:only-child::after {width: 0;}#sk-container-id-5 div.sk-dashed-wrapped {border: 1px dashed gray;margin: 0 0.4em 0.5em 0.4em;box-sizing: border-box;padding-bottom: 0.4em;background-color: white;}#sk-container-id-5 div.sk-label label {font-family: monospace;font-weight: bold;display: inline-block;line-height: 1.2em;}#sk-container-id-5 div.sk-label-container {text-align: center;}#sk-container-id-5 div.sk-container {/* jupyter's `normalize.less` sets `[hidden] { display: none; }` but bootstrap.min.css set `[hidden] { display: none !important; }` so we also need the `!important` here to be able to override the default hidden behavior on the sphinx rendered scikit-learn.org. See: https://github.com/scikit-learn/scikit-learn/issues/21755 */display: inline-block !important;position: relative;}#sk-container-id-5 div.sk-text-repr-fallback {display: none;}</style><div id=\"sk-container-id-5\" class=\"sk-top-container\"><div class=\"sk-text-repr-fallback\"><pre>XGBClassifier(base_score=None, booster=None, callbacks=None,\n",
       "              colsample_bylevel=None, colsample_bynode=None,\n",
       "              colsample_bytree=None, device=None, early_stopping_rounds=10,\n",
       "              enable_categorical=False, eval_metric=&#x27;aucpr&#x27;, feature_types=None,\n",
       "              gamma=None, grow_policy=None, importance_type=None,\n",
       "              interaction_constraints=None, learning_rate=None, max_bin=None,\n",
       "              max_cat_threshold=None, max_cat_to_onehot=None,\n",
       "              max_delta_step=None, max_depth=4, max_leaves=None,\n",
       "              min_child_weight=None, missing=nan, monotone_constraints=None,\n",
       "              multi_strategy=None, n_estimators=40, n_jobs=None,\n",
       "              num_parallel_tree=None, random_state=42, ...)</pre><b>In a Jupyter environment, please rerun this cell to show the HTML representation or trust the notebook. <br />On GitHub, the HTML representation is unable to render, please try loading this page with nbviewer.org.</b></div><div class=\"sk-container\" hidden><div class=\"sk-item\"><div class=\"sk-estimator sk-toggleable\"><input class=\"sk-toggleable__control sk-hidden--visually\" id=\"sk-estimator-id-5\" type=\"checkbox\" checked><label for=\"sk-estimator-id-5\" class=\"sk-toggleable__label sk-toggleable__label-arrow\">XGBClassifier</label><div class=\"sk-toggleable__content\"><pre>XGBClassifier(base_score=None, booster=None, callbacks=None,\n",
       "              colsample_bylevel=None, colsample_bynode=None,\n",
       "              colsample_bytree=None, device=None, early_stopping_rounds=10,\n",
       "              enable_categorical=False, eval_metric=&#x27;aucpr&#x27;, feature_types=None,\n",
       "              gamma=None, grow_policy=None, importance_type=None,\n",
       "              interaction_constraints=None, learning_rate=None, max_bin=None,\n",
       "              max_cat_threshold=None, max_cat_to_onehot=None,\n",
       "              max_delta_step=None, max_depth=4, max_leaves=None,\n",
       "              min_child_weight=None, missing=nan, monotone_constraints=None,\n",
       "              multi_strategy=None, n_estimators=40, n_jobs=None,\n",
       "              num_parallel_tree=None, random_state=42, ...)</pre></div></div></div></div></div>"
      ],
      "text/plain": [
       "XGBClassifier(base_score=None, booster=None, callbacks=None,\n",
       "              colsample_bylevel=None, colsample_bynode=None,\n",
       "              colsample_bytree=None, device=None, early_stopping_rounds=10,\n",
       "              enable_categorical=False, eval_metric='aucpr', feature_types=None,\n",
       "              gamma=None, grow_policy=None, importance_type=None,\n",
       "              interaction_constraints=None, learning_rate=None, max_bin=None,\n",
       "              max_cat_threshold=None, max_cat_to_onehot=None,\n",
       "              max_delta_step=None, max_depth=4, max_leaves=None,\n",
       "              min_child_weight=None, missing=nan, monotone_constraints=None,\n",
       "              multi_strategy=None, n_estimators=40, n_jobs=None,\n",
       "              num_parallel_tree=None, random_state=42, ...)"
      ]
     },
     "execution_count": 76,
     "metadata": {},
     "output_type": "execute_result"
    }
   ],
   "source": [
    "# Defining the model\n",
    "fe_model = xgb.XGBClassifier(\n",
    "    random_state=random_state,\n",
    "    max_depth=4,\n",
    "    n_estimators=40,\n",
    "    scale_pos_weight=0.4,\n",
    "    early_stopping_rounds=10,\n",
    "    eval_metric=\"aucpr\",\n",
    "    objective=\"binary:logistic\",\n",
    ")\n",
    "\n",
    "# Train\n",
    "fe_model.fit(\n",
    "    x_train,\n",
    "    y_train,\n",
    "    eval_set=[(x_train,y_train), (x_val, y_val)],\n",
    ")"
   ]
  },
  {
   "cell_type": "code",
   "execution_count": 77,
   "metadata": {},
   "outputs": [
    {
     "name": "stdout",
     "output_type": "stream",
     "text": [
      "Model Evaluation Metrics:\n",
      "F1 Score: 0.76817737202478\n",
      "Accuracy: 0.6919410745233969\n",
      "Recall: 0.7058118633912522\n",
      "ROC AUC: 0.6807619567347497\n"
     ]
    },
    {
     "name": "stderr",
     "output_type": "stream",
     "text": [
      "/Users/hirurana/.pyenv/versions/3.11.2/lib/python3.11/site-packages/xgboost/data.py:335: FutureWarning: is_sparse is deprecated and will be removed in a future version. Check `isinstance(dtype, pd.SparseDtype)` instead.\n",
      "  if is_sparse(dtype):\n",
      "/Users/hirurana/.pyenv/versions/3.11.2/lib/python3.11/site-packages/xgboost/data.py:338: FutureWarning: is_categorical_dtype is deprecated and will be removed in a future version. Use isinstance(dtype, CategoricalDtype) instead\n",
      "  is_categorical_dtype(dtype) or is_pa_ext_categorical_dtype(dtype)\n",
      "/Users/hirurana/.pyenv/versions/3.11.2/lib/python3.11/site-packages/xgboost/data.py:384: FutureWarning: is_categorical_dtype is deprecated and will be removed in a future version. Use isinstance(dtype, CategoricalDtype) instead\n",
      "  if is_categorical_dtype(dtype):\n",
      "/Users/hirurana/.pyenv/versions/3.11.2/lib/python3.11/site-packages/xgboost/data.py:359: FutureWarning: is_categorical_dtype is deprecated and will be removed in a future version. Use isinstance(dtype, CategoricalDtype) instead\n",
      "  return is_int or is_bool or is_float or is_categorical_dtype(dtype)\n"
     ]
    }
   ],
   "source": [
    "# Prediction\n",
    "y_pred_fe = fe_model.predict(x_test)\n",
    "\n",
    "# Evaluation\n",
    "fe_f1, fe_acc, fe_recall, fe_roc_auc = generate_metrics(y_test, y_pred_fe)\n",
    "print(\n",
    "    f\"Model Evaluation Metrics:\\nF1 Score: {fe_f1}\\nAccuracy: {fe_acc}\\nRecall: {fe_recall}\\nROC AUC: {fe_roc_auc}\"\n",
    ")"
   ]
  },
  {
   "cell_type": "code",
   "execution_count": 78,
   "metadata": {},
   "outputs": [
    {
     "data": {
      "text/plain": [
       "<sklearn.metrics._plot.confusion_matrix.ConfusionMatrixDisplay at 0x132189150>"
      ]
     },
     "execution_count": 78,
     "metadata": {},
     "output_type": "execute_result"
    },
    {
     "data": {
      "image/png": "[encoded data removed]",
      "text/plain": [
       "<Figure size 640x480 with 2 Axes>"
      ]
     },
     "metadata": {},
     "output_type": "display_data"
    }
   ],
   "source": [
    "# Plot confusion matrix\n",
    "cm = confusion_matrix(y_test, y_pred_fe)\n",
    "disp = ConfusionMatrixDisplay(confusion_matrix=cm)\n",
    "disp.plot()"
   ]
  },
  {
   "cell_type": "markdown",
   "metadata": {},
   "source": [
    "Interestingly we see a decrease in f1_score, recall and accuracy (compared to the base model), which might initially suggest that this model hasn't performed well but when looking at the ROC AUC we see a decent lift indicating that this model may perform better at predicting both classes. This deduction is confirmed when looking at the confusion matrix. We can see that although the model performs worse in classifying the positve class, there is signficant improvement in the model's ability to classify the negative class. Though this model isn't perfect, it is certainly better than where we started."
   ]
  },
  {
   "cell_type": "markdown",
   "metadata": {},
   "source": [
    "The script provided in `task1.py` will contain a cleaned up and optimised version of this third feature engineered model"
   ]
  }
 ],
 "metadata": {
  "kernelspec": {
   "display_name": "Python 3",
   "language": "python",
   "name": "python3"
  },
  "language_info": {
   "codemirror_mode": {
    "name": "ipython",
    "version": 3
   },
   "file_extension": ".py",
   "mimetype": "text/x-python",
   "name": "python",
   "nbconvert_exporter": "python",
   "pygments_lexer": "ipython3",
   "version": "3.11.2"
  },
  "orig_nbformat": 4
 },
 "nbformat": 4,
 "nbformat_minor": 2
}
